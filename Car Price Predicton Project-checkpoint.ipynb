{
 "cells": [
  {
   "cell_type": "markdown",
   "id": "db24a284",
   "metadata": {},
   "source": [
    "### Car Price Prediction Project"
   ]
  },
  {
   "cell_type": "markdown",
   "id": "ad9de0db",
   "metadata": {},
   "source": [
    "This Car Price Prediction project aims to predict the selling price of used cars based on various features such as the current price, kilometers driven, fuel type, seller type, transmission, owner history, and number of years since the car was bought.\n",
    "\n",
    "The project starts with data exploration and preprocessing using the pandas library. The dataset is loaded from a CSV file and unnecessary columns are dropped. The categorical variables are encoded using label encoding for further analysis.\n",
    "\n",
    "Several visualizations are created using seaborn and matplotlib libraries to gain insights into the dataset. The average selling price is analyzed based on fuel type, seller type, transmission, and owner type. These visualizations provide a comprehensive understanding of the influence of these features on the selling price.\n",
    "\n",
    "Next, the dataset is split into training and testing sets for model development. The project compares the performance of three different regression models: Linear Regression, Random Forest Regressor, and XGBRegressor. Evaluation metrics such as R2 score, Mean Absolute Error (MAE), Mean Squared Error (MSE), and Root Mean Squared Error (RMSE) are calculated for each model. Additionally, the XGBRegressor model is fine-tuned using hyperparameter optimization with a grid search.\n",
    "\n",
    "The best-performing model is the XGBRegressor with hyperparameter tuning, which achieves an R2 score of 0.8628, an MAE of 0.876, an MSE of 3.5366, and an RMSE of 1.8806.\n",
    "\n",
    "In conclusion, this Car Price Prediction project demonstrates the effectiveness of machine learning algorithms in predicting the selling price of used cars. The XGBRegressor model with optimized hyperparameters provides the most accurate predictions. This project can be used by car buyers, sellers, and dealers to estimate the fair price of a used car based on its characteristics."
   ]
  },
  {
   "cell_type": "code",
   "execution_count": 1,
   "id": "01942cd9",
   "metadata": {},
   "outputs": [],
   "source": [
    "import pandas as pd\n",
    "import matplotlib.pyplot as plt\n",
    "import numpy as np"
   ]
  },
  {
   "cell_type": "markdown",
   "id": "5783ac09",
   "metadata": {},
   "source": [
    "### Part 1 EDA"
   ]
  },
  {
   "cell_type": "code",
   "execution_count": 2,
   "id": "c72789fd",
   "metadata": {},
   "outputs": [],
   "source": [
    "df=pd.read_csv('car data.csv')"
   ]
  },
  {
   "cell_type": "code",
   "execution_count": 3,
   "id": "8a8f9f39",
   "metadata": {},
   "outputs": [
    {
     "data": {
      "text/html": [
       "<div>\n",
       "<style scoped>\n",
       "    .dataframe tbody tr th:only-of-type {\n",
       "        vertical-align: middle;\n",
       "    }\n",
       "\n",
       "    .dataframe tbody tr th {\n",
       "        vertical-align: top;\n",
       "    }\n",
       "\n",
       "    .dataframe thead th {\n",
       "        text-align: right;\n",
       "    }\n",
       "</style>\n",
       "<table border=\"1\" class=\"dataframe\">\n",
       "  <thead>\n",
       "    <tr style=\"text-align: right;\">\n",
       "      <th></th>\n",
       "      <th>Car_Name</th>\n",
       "      <th>Year</th>\n",
       "      <th>Selling_Price</th>\n",
       "      <th>Present_Price</th>\n",
       "      <th>Kms_Driven</th>\n",
       "      <th>Fuel_Type</th>\n",
       "      <th>Seller_Type</th>\n",
       "      <th>Transmission</th>\n",
       "      <th>Owner</th>\n",
       "    </tr>\n",
       "  </thead>\n",
       "  <tbody>\n",
       "    <tr>\n",
       "      <th>0</th>\n",
       "      <td>ritz</td>\n",
       "      <td>2014</td>\n",
       "      <td>3.35</td>\n",
       "      <td>5.59</td>\n",
       "      <td>27000</td>\n",
       "      <td>Petrol</td>\n",
       "      <td>Dealer</td>\n",
       "      <td>Manual</td>\n",
       "      <td>0</td>\n",
       "    </tr>\n",
       "    <tr>\n",
       "      <th>1</th>\n",
       "      <td>sx4</td>\n",
       "      <td>2013</td>\n",
       "      <td>4.75</td>\n",
       "      <td>9.54</td>\n",
       "      <td>43000</td>\n",
       "      <td>Diesel</td>\n",
       "      <td>Dealer</td>\n",
       "      <td>Manual</td>\n",
       "      <td>0</td>\n",
       "    </tr>\n",
       "    <tr>\n",
       "      <th>2</th>\n",
       "      <td>ciaz</td>\n",
       "      <td>2017</td>\n",
       "      <td>7.25</td>\n",
       "      <td>9.85</td>\n",
       "      <td>6900</td>\n",
       "      <td>Petrol</td>\n",
       "      <td>Dealer</td>\n",
       "      <td>Manual</td>\n",
       "      <td>0</td>\n",
       "    </tr>\n",
       "    <tr>\n",
       "      <th>3</th>\n",
       "      <td>wagon r</td>\n",
       "      <td>2011</td>\n",
       "      <td>2.85</td>\n",
       "      <td>4.15</td>\n",
       "      <td>5200</td>\n",
       "      <td>Petrol</td>\n",
       "      <td>Dealer</td>\n",
       "      <td>Manual</td>\n",
       "      <td>0</td>\n",
       "    </tr>\n",
       "    <tr>\n",
       "      <th>4</th>\n",
       "      <td>swift</td>\n",
       "      <td>2014</td>\n",
       "      <td>4.60</td>\n",
       "      <td>6.87</td>\n",
       "      <td>42450</td>\n",
       "      <td>Diesel</td>\n",
       "      <td>Dealer</td>\n",
       "      <td>Manual</td>\n",
       "      <td>0</td>\n",
       "    </tr>\n",
       "  </tbody>\n",
       "</table>\n",
       "</div>"
      ],
      "text/plain": [
       "  Car_Name  Year  Selling_Price  Present_Price  Kms_Driven Fuel_Type  \\\n",
       "0     ritz  2014           3.35           5.59       27000    Petrol   \n",
       "1      sx4  2013           4.75           9.54       43000    Diesel   \n",
       "2     ciaz  2017           7.25           9.85        6900    Petrol   \n",
       "3  wagon r  2011           2.85           4.15        5200    Petrol   \n",
       "4    swift  2014           4.60           6.87       42450    Diesel   \n",
       "\n",
       "  Seller_Type Transmission  Owner  \n",
       "0      Dealer       Manual      0  \n",
       "1      Dealer       Manual      0  \n",
       "2      Dealer       Manual      0  \n",
       "3      Dealer       Manual      0  \n",
       "4      Dealer       Manual      0  "
      ]
     },
     "execution_count": 3,
     "metadata": {},
     "output_type": "execute_result"
    }
   ],
   "source": [
    "df.head()"
   ]
  },
  {
   "cell_type": "code",
   "execution_count": 4,
   "id": "76f65196",
   "metadata": {},
   "outputs": [],
   "source": [
    "df = df.drop('Car_Name', axis=1)"
   ]
  },
  {
   "cell_type": "code",
   "execution_count": 5,
   "id": "cd398ed5",
   "metadata": {},
   "outputs": [],
   "source": [
    "df = df.rename(columns={\"Selling_Price\": \"Selling_Price(lakh)\"})\n",
    "df = df.rename(columns={\"Present_Price\": \"Present_Price(lakh)\"})"
   ]
  },
  {
   "cell_type": "code",
   "execution_count": 6,
   "id": "804dc04e",
   "metadata": {},
   "outputs": [
    {
     "data": {
      "text/html": [
       "<div>\n",
       "<style scoped>\n",
       "    .dataframe tbody tr th:only-of-type {\n",
       "        vertical-align: middle;\n",
       "    }\n",
       "\n",
       "    .dataframe tbody tr th {\n",
       "        vertical-align: top;\n",
       "    }\n",
       "\n",
       "    .dataframe thead th {\n",
       "        text-align: right;\n",
       "    }\n",
       "</style>\n",
       "<table border=\"1\" class=\"dataframe\">\n",
       "  <thead>\n",
       "    <tr style=\"text-align: right;\">\n",
       "      <th></th>\n",
       "      <th>Year</th>\n",
       "      <th>Selling_Price(lakh)</th>\n",
       "      <th>Present_Price(lakh)</th>\n",
       "      <th>Kms_Driven</th>\n",
       "      <th>Fuel_Type</th>\n",
       "      <th>Seller_Type</th>\n",
       "      <th>Transmission</th>\n",
       "      <th>Owner</th>\n",
       "    </tr>\n",
       "  </thead>\n",
       "  <tbody>\n",
       "    <tr>\n",
       "      <th>0</th>\n",
       "      <td>2014</td>\n",
       "      <td>3.35</td>\n",
       "      <td>5.59</td>\n",
       "      <td>27000</td>\n",
       "      <td>Petrol</td>\n",
       "      <td>Dealer</td>\n",
       "      <td>Manual</td>\n",
       "      <td>0</td>\n",
       "    </tr>\n",
       "    <tr>\n",
       "      <th>1</th>\n",
       "      <td>2013</td>\n",
       "      <td>4.75</td>\n",
       "      <td>9.54</td>\n",
       "      <td>43000</td>\n",
       "      <td>Diesel</td>\n",
       "      <td>Dealer</td>\n",
       "      <td>Manual</td>\n",
       "      <td>0</td>\n",
       "    </tr>\n",
       "    <tr>\n",
       "      <th>2</th>\n",
       "      <td>2017</td>\n",
       "      <td>7.25</td>\n",
       "      <td>9.85</td>\n",
       "      <td>6900</td>\n",
       "      <td>Petrol</td>\n",
       "      <td>Dealer</td>\n",
       "      <td>Manual</td>\n",
       "      <td>0</td>\n",
       "    </tr>\n",
       "    <tr>\n",
       "      <th>3</th>\n",
       "      <td>2011</td>\n",
       "      <td>2.85</td>\n",
       "      <td>4.15</td>\n",
       "      <td>5200</td>\n",
       "      <td>Petrol</td>\n",
       "      <td>Dealer</td>\n",
       "      <td>Manual</td>\n",
       "      <td>0</td>\n",
       "    </tr>\n",
       "    <tr>\n",
       "      <th>4</th>\n",
       "      <td>2014</td>\n",
       "      <td>4.60</td>\n",
       "      <td>6.87</td>\n",
       "      <td>42450</td>\n",
       "      <td>Diesel</td>\n",
       "      <td>Dealer</td>\n",
       "      <td>Manual</td>\n",
       "      <td>0</td>\n",
       "    </tr>\n",
       "  </tbody>\n",
       "</table>\n",
       "</div>"
      ],
      "text/plain": [
       "   Year  Selling_Price(lakh)  Present_Price(lakh)  Kms_Driven Fuel_Type  \\\n",
       "0  2014                 3.35                 5.59       27000    Petrol   \n",
       "1  2013                 4.75                 9.54       43000    Diesel   \n",
       "2  2017                 7.25                 9.85        6900    Petrol   \n",
       "3  2011                 2.85                 4.15        5200    Petrol   \n",
       "4  2014                 4.60                 6.87       42450    Diesel   \n",
       "\n",
       "  Seller_Type Transmission  Owner  \n",
       "0      Dealer       Manual      0  \n",
       "1      Dealer       Manual      0  \n",
       "2      Dealer       Manual      0  \n",
       "3      Dealer       Manual      0  \n",
       "4      Dealer       Manual      0  "
      ]
     },
     "execution_count": 6,
     "metadata": {},
     "output_type": "execute_result"
    }
   ],
   "source": [
    "df.head()"
   ]
  },
  {
   "cell_type": "code",
   "execution_count": null,
   "id": "d0d67f4f",
   "metadata": {},
   "outputs": [],
   "source": []
  },
  {
   "cell_type": "code",
   "execution_count": 7,
   "id": "342ef3ee",
   "metadata": {},
   "outputs": [
    {
     "data": {
      "text/plain": [
       "array([2014, 2013, 2017, 2011, 2018, 2015, 2016, 2009, 2010, 2012, 2003,\n",
       "       2008, 2006, 2005, 2004, 2007], dtype=int64)"
      ]
     },
     "execution_count": 7,
     "metadata": {},
     "output_type": "execute_result"
    }
   ],
   "source": [
    "df['Year'].unique()"
   ]
  },
  {
   "cell_type": "code",
   "execution_count": 8,
   "id": "7412cb2c",
   "metadata": {},
   "outputs": [
    {
     "data": {
      "text/plain": [
       "2015    61\n",
       "2016    50\n",
       "2014    38\n",
       "2017    35\n",
       "2013    33\n",
       "2012    23\n",
       "2011    19\n",
       "2010    15\n",
       "2008     7\n",
       "2009     6\n",
       "2006     4\n",
       "2005     4\n",
       "2003     2\n",
       "2007     2\n",
       "2018     1\n",
       "2004     1\n",
       "Name: Year, dtype: int64"
      ]
     },
     "execution_count": 8,
     "metadata": {},
     "output_type": "execute_result"
    }
   ],
   "source": [
    "df['Year'].value_counts()"
   ]
  },
  {
   "cell_type": "code",
   "execution_count": 9,
   "id": "70f07e1c",
   "metadata": {},
   "outputs": [
    {
     "data": {
      "text/plain": [
       "array(['Petrol', 'Diesel', 'CNG'], dtype=object)"
      ]
     },
     "execution_count": 9,
     "metadata": {},
     "output_type": "execute_result"
    }
   ],
   "source": [
    "df['Fuel_Type'].unique()\n"
   ]
  },
  {
   "cell_type": "code",
   "execution_count": 10,
   "id": "3579cbdf",
   "metadata": {},
   "outputs": [
    {
     "data": {
      "text/plain": [
       "Petrol    239\n",
       "Diesel     60\n",
       "CNG         2\n",
       "Name: Fuel_Type, dtype: int64"
      ]
     },
     "execution_count": 10,
     "metadata": {},
     "output_type": "execute_result"
    }
   ],
   "source": [
    "df['Fuel_Type'].value_counts()"
   ]
  },
  {
   "cell_type": "code",
   "execution_count": 11,
   "id": "13a91e3d",
   "metadata": {},
   "outputs": [
    {
     "data": {
      "text/plain": [
       "array(['Dealer', 'Individual'], dtype=object)"
      ]
     },
     "execution_count": 11,
     "metadata": {},
     "output_type": "execute_result"
    }
   ],
   "source": [
    "df['Seller_Type'].unique()"
   ]
  },
  {
   "cell_type": "code",
   "execution_count": 12,
   "id": "fc7528d9",
   "metadata": {},
   "outputs": [
    {
     "data": {
      "text/plain": [
       "Dealer        195\n",
       "Individual    106\n",
       "Name: Seller_Type, dtype: int64"
      ]
     },
     "execution_count": 12,
     "metadata": {},
     "output_type": "execute_result"
    }
   ],
   "source": [
    "df['Seller_Type'].value_counts()"
   ]
  },
  {
   "cell_type": "code",
   "execution_count": 13,
   "id": "574a227c",
   "metadata": {},
   "outputs": [
    {
     "data": {
      "text/plain": [
       "array(['Manual', 'Automatic'], dtype=object)"
      ]
     },
     "execution_count": 13,
     "metadata": {},
     "output_type": "execute_result"
    }
   ],
   "source": [
    "df['Transmission'].unique()\n"
   ]
  },
  {
   "cell_type": "code",
   "execution_count": 14,
   "id": "307d06e9",
   "metadata": {},
   "outputs": [
    {
     "data": {
      "text/plain": [
       "Manual       261\n",
       "Automatic     40\n",
       "Name: Transmission, dtype: int64"
      ]
     },
     "execution_count": 14,
     "metadata": {},
     "output_type": "execute_result"
    }
   ],
   "source": [
    "df['Transmission'].value_counts()"
   ]
  },
  {
   "cell_type": "code",
   "execution_count": 15,
   "id": "e5e436c2",
   "metadata": {},
   "outputs": [
    {
     "data": {
      "text/plain": [
       "array([0, 1, 3], dtype=int64)"
      ]
     },
     "execution_count": 15,
     "metadata": {},
     "output_type": "execute_result"
    }
   ],
   "source": [
    "df['Owner'].unique()\n"
   ]
  },
  {
   "cell_type": "code",
   "execution_count": 16,
   "id": "e6dc70f8",
   "metadata": {},
   "outputs": [
    {
     "data": {
      "text/plain": [
       "0    290\n",
       "1     10\n",
       "3      1\n",
       "Name: Owner, dtype: int64"
      ]
     },
     "execution_count": 16,
     "metadata": {},
     "output_type": "execute_result"
    }
   ],
   "source": [
    "df['Owner'].value_counts()"
   ]
  },
  {
   "cell_type": "code",
   "execution_count": 17,
   "id": "9c489801",
   "metadata": {},
   "outputs": [
    {
     "data": {
      "text/html": [
       "<div>\n",
       "<style scoped>\n",
       "    .dataframe tbody tr th:only-of-type {\n",
       "        vertical-align: middle;\n",
       "    }\n",
       "\n",
       "    .dataframe tbody tr th {\n",
       "        vertical-align: top;\n",
       "    }\n",
       "\n",
       "    .dataframe thead th {\n",
       "        text-align: right;\n",
       "    }\n",
       "</style>\n",
       "<table border=\"1\" class=\"dataframe\">\n",
       "  <thead>\n",
       "    <tr style=\"text-align: right;\">\n",
       "      <th></th>\n",
       "      <th>Year</th>\n",
       "      <th>Selling_Price(lakh)</th>\n",
       "      <th>Present_Price(lakh)</th>\n",
       "      <th>Kms_Driven</th>\n",
       "      <th>Fuel_Type</th>\n",
       "      <th>Seller_Type</th>\n",
       "      <th>Transmission</th>\n",
       "      <th>Owner</th>\n",
       "    </tr>\n",
       "  </thead>\n",
       "  <tbody>\n",
       "    <tr>\n",
       "      <th>0</th>\n",
       "      <td>2014</td>\n",
       "      <td>3.35</td>\n",
       "      <td>5.59</td>\n",
       "      <td>27000</td>\n",
       "      <td>Petrol</td>\n",
       "      <td>Dealer</td>\n",
       "      <td>Manual</td>\n",
       "      <td>0</td>\n",
       "    </tr>\n",
       "    <tr>\n",
       "      <th>1</th>\n",
       "      <td>2013</td>\n",
       "      <td>4.75</td>\n",
       "      <td>9.54</td>\n",
       "      <td>43000</td>\n",
       "      <td>Diesel</td>\n",
       "      <td>Dealer</td>\n",
       "      <td>Manual</td>\n",
       "      <td>0</td>\n",
       "    </tr>\n",
       "    <tr>\n",
       "      <th>2</th>\n",
       "      <td>2017</td>\n",
       "      <td>7.25</td>\n",
       "      <td>9.85</td>\n",
       "      <td>6900</td>\n",
       "      <td>Petrol</td>\n",
       "      <td>Dealer</td>\n",
       "      <td>Manual</td>\n",
       "      <td>0</td>\n",
       "    </tr>\n",
       "    <tr>\n",
       "      <th>3</th>\n",
       "      <td>2011</td>\n",
       "      <td>2.85</td>\n",
       "      <td>4.15</td>\n",
       "      <td>5200</td>\n",
       "      <td>Petrol</td>\n",
       "      <td>Dealer</td>\n",
       "      <td>Manual</td>\n",
       "      <td>0</td>\n",
       "    </tr>\n",
       "    <tr>\n",
       "      <th>4</th>\n",
       "      <td>2014</td>\n",
       "      <td>4.60</td>\n",
       "      <td>6.87</td>\n",
       "      <td>42450</td>\n",
       "      <td>Diesel</td>\n",
       "      <td>Dealer</td>\n",
       "      <td>Manual</td>\n",
       "      <td>0</td>\n",
       "    </tr>\n",
       "  </tbody>\n",
       "</table>\n",
       "</div>"
      ],
      "text/plain": [
       "   Year  Selling_Price(lakh)  Present_Price(lakh)  Kms_Driven Fuel_Type  \\\n",
       "0  2014                 3.35                 5.59       27000    Petrol   \n",
       "1  2013                 4.75                 9.54       43000    Diesel   \n",
       "2  2017                 7.25                 9.85        6900    Petrol   \n",
       "3  2011                 2.85                 4.15        5200    Petrol   \n",
       "4  2014                 4.60                 6.87       42450    Diesel   \n",
       "\n",
       "  Seller_Type Transmission  Owner  \n",
       "0      Dealer       Manual      0  \n",
       "1      Dealer       Manual      0  \n",
       "2      Dealer       Manual      0  \n",
       "3      Dealer       Manual      0  \n",
       "4      Dealer       Manual      0  "
      ]
     },
     "execution_count": 17,
     "metadata": {},
     "output_type": "execute_result"
    }
   ],
   "source": [
    "df.head()"
   ]
  },
  {
   "cell_type": "code",
   "execution_count": 18,
   "id": "f330f43a",
   "metadata": {},
   "outputs": [
    {
     "data": {
      "text/plain": [
       "Index(['Year', 'Selling_Price(lakh)', 'Present_Price(lakh)', 'Kms_Driven',\n",
       "       'Fuel_Type', 'Seller_Type', 'Transmission', 'Owner'],\n",
       "      dtype='object')"
      ]
     },
     "execution_count": 18,
     "metadata": {},
     "output_type": "execute_result"
    }
   ],
   "source": [
    "df.columns"
   ]
  },
  {
   "cell_type": "markdown",
   "id": "dc771c79",
   "metadata": {},
   "source": [
    "### Add current year"
   ]
  },
  {
   "cell_type": "code",
   "execution_count": 19,
   "id": "8891503b",
   "metadata": {},
   "outputs": [],
   "source": [
    "df['current_year'] =2023"
   ]
  },
  {
   "cell_type": "code",
   "execution_count": 20,
   "id": "32af9656",
   "metadata": {},
   "outputs": [
    {
     "data": {
      "text/html": [
       "<div>\n",
       "<style scoped>\n",
       "    .dataframe tbody tr th:only-of-type {\n",
       "        vertical-align: middle;\n",
       "    }\n",
       "\n",
       "    .dataframe tbody tr th {\n",
       "        vertical-align: top;\n",
       "    }\n",
       "\n",
       "    .dataframe thead th {\n",
       "        text-align: right;\n",
       "    }\n",
       "</style>\n",
       "<table border=\"1\" class=\"dataframe\">\n",
       "  <thead>\n",
       "    <tr style=\"text-align: right;\">\n",
       "      <th></th>\n",
       "      <th>Year</th>\n",
       "      <th>Selling_Price(lakh)</th>\n",
       "      <th>Present_Price(lakh)</th>\n",
       "      <th>Kms_Driven</th>\n",
       "      <th>Fuel_Type</th>\n",
       "      <th>Seller_Type</th>\n",
       "      <th>Transmission</th>\n",
       "      <th>Owner</th>\n",
       "      <th>current_year</th>\n",
       "    </tr>\n",
       "  </thead>\n",
       "  <tbody>\n",
       "    <tr>\n",
       "      <th>0</th>\n",
       "      <td>2014</td>\n",
       "      <td>3.35</td>\n",
       "      <td>5.59</td>\n",
       "      <td>27000</td>\n",
       "      <td>Petrol</td>\n",
       "      <td>Dealer</td>\n",
       "      <td>Manual</td>\n",
       "      <td>0</td>\n",
       "      <td>2023</td>\n",
       "    </tr>\n",
       "    <tr>\n",
       "      <th>1</th>\n",
       "      <td>2013</td>\n",
       "      <td>4.75</td>\n",
       "      <td>9.54</td>\n",
       "      <td>43000</td>\n",
       "      <td>Diesel</td>\n",
       "      <td>Dealer</td>\n",
       "      <td>Manual</td>\n",
       "      <td>0</td>\n",
       "      <td>2023</td>\n",
       "    </tr>\n",
       "    <tr>\n",
       "      <th>2</th>\n",
       "      <td>2017</td>\n",
       "      <td>7.25</td>\n",
       "      <td>9.85</td>\n",
       "      <td>6900</td>\n",
       "      <td>Petrol</td>\n",
       "      <td>Dealer</td>\n",
       "      <td>Manual</td>\n",
       "      <td>0</td>\n",
       "      <td>2023</td>\n",
       "    </tr>\n",
       "    <tr>\n",
       "      <th>3</th>\n",
       "      <td>2011</td>\n",
       "      <td>2.85</td>\n",
       "      <td>4.15</td>\n",
       "      <td>5200</td>\n",
       "      <td>Petrol</td>\n",
       "      <td>Dealer</td>\n",
       "      <td>Manual</td>\n",
       "      <td>0</td>\n",
       "      <td>2023</td>\n",
       "    </tr>\n",
       "    <tr>\n",
       "      <th>4</th>\n",
       "      <td>2014</td>\n",
       "      <td>4.60</td>\n",
       "      <td>6.87</td>\n",
       "      <td>42450</td>\n",
       "      <td>Diesel</td>\n",
       "      <td>Dealer</td>\n",
       "      <td>Manual</td>\n",
       "      <td>0</td>\n",
       "      <td>2023</td>\n",
       "    </tr>\n",
       "  </tbody>\n",
       "</table>\n",
       "</div>"
      ],
      "text/plain": [
       "   Year  Selling_Price(lakh)  Present_Price(lakh)  Kms_Driven Fuel_Type  \\\n",
       "0  2014                 3.35                 5.59       27000    Petrol   \n",
       "1  2013                 4.75                 9.54       43000    Diesel   \n",
       "2  2017                 7.25                 9.85        6900    Petrol   \n",
       "3  2011                 2.85                 4.15        5200    Petrol   \n",
       "4  2014                 4.60                 6.87       42450    Diesel   \n",
       "\n",
       "  Seller_Type Transmission  Owner  current_year  \n",
       "0      Dealer       Manual      0          2023  \n",
       "1      Dealer       Manual      0          2023  \n",
       "2      Dealer       Manual      0          2023  \n",
       "3      Dealer       Manual      0          2023  \n",
       "4      Dealer       Manual      0          2023  "
      ]
     },
     "execution_count": 20,
     "metadata": {},
     "output_type": "execute_result"
    }
   ],
   "source": [
    "df.head()"
   ]
  },
  {
   "cell_type": "code",
   "execution_count": 21,
   "id": "2a37ad0c",
   "metadata": {},
   "outputs": [],
   "source": [
    "df['no_year']=df['current_year']- df['Year']"
   ]
  },
  {
   "cell_type": "code",
   "execution_count": 22,
   "id": "90f5fe75",
   "metadata": {},
   "outputs": [
    {
     "data": {
      "text/html": [
       "<div>\n",
       "<style scoped>\n",
       "    .dataframe tbody tr th:only-of-type {\n",
       "        vertical-align: middle;\n",
       "    }\n",
       "\n",
       "    .dataframe tbody tr th {\n",
       "        vertical-align: top;\n",
       "    }\n",
       "\n",
       "    .dataframe thead th {\n",
       "        text-align: right;\n",
       "    }\n",
       "</style>\n",
       "<table border=\"1\" class=\"dataframe\">\n",
       "  <thead>\n",
       "    <tr style=\"text-align: right;\">\n",
       "      <th></th>\n",
       "      <th>Year</th>\n",
       "      <th>Selling_Price(lakh)</th>\n",
       "      <th>Present_Price(lakh)</th>\n",
       "      <th>Kms_Driven</th>\n",
       "      <th>Fuel_Type</th>\n",
       "      <th>Seller_Type</th>\n",
       "      <th>Transmission</th>\n",
       "      <th>Owner</th>\n",
       "      <th>current_year</th>\n",
       "      <th>no_year</th>\n",
       "    </tr>\n",
       "  </thead>\n",
       "  <tbody>\n",
       "    <tr>\n",
       "      <th>0</th>\n",
       "      <td>2014</td>\n",
       "      <td>3.35</td>\n",
       "      <td>5.59</td>\n",
       "      <td>27000</td>\n",
       "      <td>Petrol</td>\n",
       "      <td>Dealer</td>\n",
       "      <td>Manual</td>\n",
       "      <td>0</td>\n",
       "      <td>2023</td>\n",
       "      <td>9</td>\n",
       "    </tr>\n",
       "    <tr>\n",
       "      <th>1</th>\n",
       "      <td>2013</td>\n",
       "      <td>4.75</td>\n",
       "      <td>9.54</td>\n",
       "      <td>43000</td>\n",
       "      <td>Diesel</td>\n",
       "      <td>Dealer</td>\n",
       "      <td>Manual</td>\n",
       "      <td>0</td>\n",
       "      <td>2023</td>\n",
       "      <td>10</td>\n",
       "    </tr>\n",
       "    <tr>\n",
       "      <th>2</th>\n",
       "      <td>2017</td>\n",
       "      <td>7.25</td>\n",
       "      <td>9.85</td>\n",
       "      <td>6900</td>\n",
       "      <td>Petrol</td>\n",
       "      <td>Dealer</td>\n",
       "      <td>Manual</td>\n",
       "      <td>0</td>\n",
       "      <td>2023</td>\n",
       "      <td>6</td>\n",
       "    </tr>\n",
       "    <tr>\n",
       "      <th>3</th>\n",
       "      <td>2011</td>\n",
       "      <td>2.85</td>\n",
       "      <td>4.15</td>\n",
       "      <td>5200</td>\n",
       "      <td>Petrol</td>\n",
       "      <td>Dealer</td>\n",
       "      <td>Manual</td>\n",
       "      <td>0</td>\n",
       "      <td>2023</td>\n",
       "      <td>12</td>\n",
       "    </tr>\n",
       "    <tr>\n",
       "      <th>4</th>\n",
       "      <td>2014</td>\n",
       "      <td>4.60</td>\n",
       "      <td>6.87</td>\n",
       "      <td>42450</td>\n",
       "      <td>Diesel</td>\n",
       "      <td>Dealer</td>\n",
       "      <td>Manual</td>\n",
       "      <td>0</td>\n",
       "      <td>2023</td>\n",
       "      <td>9</td>\n",
       "    </tr>\n",
       "  </tbody>\n",
       "</table>\n",
       "</div>"
      ],
      "text/plain": [
       "   Year  Selling_Price(lakh)  Present_Price(lakh)  Kms_Driven Fuel_Type  \\\n",
       "0  2014                 3.35                 5.59       27000    Petrol   \n",
       "1  2013                 4.75                 9.54       43000    Diesel   \n",
       "2  2017                 7.25                 9.85        6900    Petrol   \n",
       "3  2011                 2.85                 4.15        5200    Petrol   \n",
       "4  2014                 4.60                 6.87       42450    Diesel   \n",
       "\n",
       "  Seller_Type Transmission  Owner  current_year  no_year  \n",
       "0      Dealer       Manual      0          2023        9  \n",
       "1      Dealer       Manual      0          2023       10  \n",
       "2      Dealer       Manual      0          2023        6  \n",
       "3      Dealer       Manual      0          2023       12  \n",
       "4      Dealer       Manual      0          2023        9  "
      ]
     },
     "execution_count": 22,
     "metadata": {},
     "output_type": "execute_result"
    }
   ],
   "source": [
    "df.head()"
   ]
  },
  {
   "cell_type": "code",
   "execution_count": 23,
   "id": "2d6337c2",
   "metadata": {},
   "outputs": [],
   "source": [
    "df.drop(['Year'],axis=1,inplace=True)"
   ]
  },
  {
   "cell_type": "code",
   "execution_count": 24,
   "id": "842b9bf2",
   "metadata": {},
   "outputs": [
    {
     "data": {
      "text/html": [
       "<div>\n",
       "<style scoped>\n",
       "    .dataframe tbody tr th:only-of-type {\n",
       "        vertical-align: middle;\n",
       "    }\n",
       "\n",
       "    .dataframe tbody tr th {\n",
       "        vertical-align: top;\n",
       "    }\n",
       "\n",
       "    .dataframe thead th {\n",
       "        text-align: right;\n",
       "    }\n",
       "</style>\n",
       "<table border=\"1\" class=\"dataframe\">\n",
       "  <thead>\n",
       "    <tr style=\"text-align: right;\">\n",
       "      <th></th>\n",
       "      <th>Selling_Price(lakh)</th>\n",
       "      <th>Present_Price(lakh)</th>\n",
       "      <th>Kms_Driven</th>\n",
       "      <th>Fuel_Type</th>\n",
       "      <th>Seller_Type</th>\n",
       "      <th>Transmission</th>\n",
       "      <th>Owner</th>\n",
       "      <th>current_year</th>\n",
       "      <th>no_year</th>\n",
       "    </tr>\n",
       "  </thead>\n",
       "  <tbody>\n",
       "    <tr>\n",
       "      <th>0</th>\n",
       "      <td>3.35</td>\n",
       "      <td>5.59</td>\n",
       "      <td>27000</td>\n",
       "      <td>Petrol</td>\n",
       "      <td>Dealer</td>\n",
       "      <td>Manual</td>\n",
       "      <td>0</td>\n",
       "      <td>2023</td>\n",
       "      <td>9</td>\n",
       "    </tr>\n",
       "    <tr>\n",
       "      <th>1</th>\n",
       "      <td>4.75</td>\n",
       "      <td>9.54</td>\n",
       "      <td>43000</td>\n",
       "      <td>Diesel</td>\n",
       "      <td>Dealer</td>\n",
       "      <td>Manual</td>\n",
       "      <td>0</td>\n",
       "      <td>2023</td>\n",
       "      <td>10</td>\n",
       "    </tr>\n",
       "    <tr>\n",
       "      <th>2</th>\n",
       "      <td>7.25</td>\n",
       "      <td>9.85</td>\n",
       "      <td>6900</td>\n",
       "      <td>Petrol</td>\n",
       "      <td>Dealer</td>\n",
       "      <td>Manual</td>\n",
       "      <td>0</td>\n",
       "      <td>2023</td>\n",
       "      <td>6</td>\n",
       "    </tr>\n",
       "    <tr>\n",
       "      <th>3</th>\n",
       "      <td>2.85</td>\n",
       "      <td>4.15</td>\n",
       "      <td>5200</td>\n",
       "      <td>Petrol</td>\n",
       "      <td>Dealer</td>\n",
       "      <td>Manual</td>\n",
       "      <td>0</td>\n",
       "      <td>2023</td>\n",
       "      <td>12</td>\n",
       "    </tr>\n",
       "    <tr>\n",
       "      <th>4</th>\n",
       "      <td>4.60</td>\n",
       "      <td>6.87</td>\n",
       "      <td>42450</td>\n",
       "      <td>Diesel</td>\n",
       "      <td>Dealer</td>\n",
       "      <td>Manual</td>\n",
       "      <td>0</td>\n",
       "      <td>2023</td>\n",
       "      <td>9</td>\n",
       "    </tr>\n",
       "  </tbody>\n",
       "</table>\n",
       "</div>"
      ],
      "text/plain": [
       "   Selling_Price(lakh)  Present_Price(lakh)  Kms_Driven Fuel_Type Seller_Type  \\\n",
       "0                 3.35                 5.59       27000    Petrol      Dealer   \n",
       "1                 4.75                 9.54       43000    Diesel      Dealer   \n",
       "2                 7.25                 9.85        6900    Petrol      Dealer   \n",
       "3                 2.85                 4.15        5200    Petrol      Dealer   \n",
       "4                 4.60                 6.87       42450    Diesel      Dealer   \n",
       "\n",
       "  Transmission  Owner  current_year  no_year  \n",
       "0       Manual      0          2023        9  \n",
       "1       Manual      0          2023       10  \n",
       "2       Manual      0          2023        6  \n",
       "3       Manual      0          2023       12  \n",
       "4       Manual      0          2023        9  "
      ]
     },
     "execution_count": 24,
     "metadata": {},
     "output_type": "execute_result"
    }
   ],
   "source": [
    "df.head()"
   ]
  },
  {
   "cell_type": "code",
   "execution_count": 25,
   "id": "9237b26a",
   "metadata": {},
   "outputs": [
    {
     "data": {
      "text/plain": [
       "Index(['Selling_Price(lakh)', 'Present_Price(lakh)', 'Kms_Driven', 'Fuel_Type',\n",
       "       'Seller_Type', 'Transmission', 'Owner', 'current_year', 'no_year'],\n",
       "      dtype='object')"
      ]
     },
     "execution_count": 25,
     "metadata": {},
     "output_type": "execute_result"
    }
   ],
   "source": [
    "df.columns"
   ]
  },
  {
   "cell_type": "markdown",
   "id": "a86d3a5e",
   "metadata": {},
   "source": [
    "### A brief explanation of all the features\n",
    "\n",
    "1. Selling_Price(lakh): This column represents the selling price of a car in lakh rupees. It is a continuous numerical variable.\n",
    "\n",
    "2. Present_Price(lakh): This column represents the current price of the car in lakh rupees. It is also a continuous numerical variable.\n",
    "\n",
    "3. Kms_Driven: This column represents the total distance traveled by the car in kilometers. It is a continuous numerical variable.\n",
    "\n",
    "4. Fuel_Type: This column represents the type of fuel used by the car. It is a categorical variable with three possible values: \"Petrol\", \"Diesel\", and \"CNG\".\n",
    "\n",
    "5. Seller_Type: This column represents the type of seller (individual or dealer) of the car. It is a categorical variable with two possible values: \"Individual\" and \"Dealer\".\n",
    "\n",
    "6. Transmission: This column represents the type of transmission system in the car. It is a categorical variable with two possible values: \"Manual\" and \"Automatic\".\n",
    "\n",
    "7. Owner: This column represents the number of previous owners the car has had. It is a discrete numerical variable.\n",
    "\n",
    "8. current_year: This column represents the current year when the data was collected. It is a discrete numerical variable.\n",
    "\n",
    "9. no_year: This column represents the number of years since the car was bought. It is a discrete numerical variable."
   ]
  },
  {
   "cell_type": "code",
   "execution_count": 26,
   "id": "f8e8011d",
   "metadata": {},
   "outputs": [
    {
     "data": {
      "image/png": "[encoded data removed]",
      "text/plain": [
       "<Figure size 640x480 with 1 Axes>"
      ]
     },
     "metadata": {},
     "output_type": "display_data"
    }
   ],
   "source": [
    "import seaborn as sns\n",
    "import matplotlib.pyplot as plt\n",
    "\n",
    "# Grouping the data by 'Fuel_Type' and calculating the mean of 'Selling_Price(lakh)'\n",
    "fuel_type_mean = df.groupby('Fuel_Type')['Selling_Price(lakh)'].mean().reset_index()\n",
    "\n",
    "# Setting a custom style for the plot\n",
    "plt.style.use('ggplot')\n",
    "\n",
    "# Creating the barplot using seaborn\n",
    "sns.barplot(x='Fuel_Type', y='Selling_Price(lakh)', data=fuel_type_mean)\n",
    "\n",
    "# Adding labels and title to the plot\n",
    "plt.xlabel('Fuel Type')\n",
    "plt.ylabel('Average Selling Price (lakh)')\n",
    "plt.title('Average Selling Price by Fuel Type')\n",
    "\n",
    "# Displaying the plot\n",
    "plt.show()"
   ]
  },
  {
   "cell_type": "markdown",
   "id": "75cf124c",
   "metadata": {},
   "source": [
    "### Insights\n",
    "- When Fuel Type is Diesel then Average Selling Price is Very High"
   ]
  },
  {
   "cell_type": "code",
   "execution_count": 27,
   "id": "2d6e92ee",
   "metadata": {},
   "outputs": [
    {
     "data": {
      "image/png": "[encoded data removed]",
      "text/plain": [
       "<Figure size 640x480 with 1 Axes>"
      ]
     },
     "metadata": {},
     "output_type": "display_data"
    }
   ],
   "source": [
    "df_grouped = df.groupby('Seller_Type')['Selling_Price(lakh)'].mean()\n",
    "sns.set_style(\"whitegrid\")\n",
    "sns.barplot(x=df_grouped.index, y=df_grouped.values, palette=\"Set3\")\n",
    "plt.xlabel('Seller Type')\n",
    "plt.ylabel('Mean Selling Price (lakh)')\n",
    "plt.title('Mean Selling Price by Seller Type')\n",
    "plt.show()"
   ]
  },
  {
   "cell_type": "code",
   "execution_count": 28,
   "id": "69ac5df9",
   "metadata": {},
   "outputs": [
    {
     "data": {
      "image/png": "[encoded data removed]",
      "text/plain": [
       "<Figure size 640x480 with 1 Axes>"
      ]
     },
     "metadata": {},
     "output_type": "display_data"
    }
   ],
   "source": [
    "df_grouped = df.groupby('Transmission')['Selling_Price(lakh)'].mean()\n",
    "sns.set_style(\"whitegrid\")\n",
    "sns.barplot(x=df_grouped.index, y=df_grouped.values, palette=\"Set3\")\n",
    "plt.xlabel('Transmission')\n",
    "plt.ylabel('Mean Selling Price (lakh)')\n",
    "plt.title('Mean Selling Price by Transmission Type')\n",
    "plt.show()"
   ]
  },
  {
   "cell_type": "code",
   "execution_count": 29,
   "id": "9b95df55",
   "metadata": {},
   "outputs": [
    {
     "data": {
      "image/png": "[encoded data removed]",
      "text/plain": [
       "<Figure size 640x480 with 1 Axes>"
      ]
     },
     "metadata": {},
     "output_type": "display_data"
    }
   ],
   "source": [
    "df_grouped = df.groupby('Owner')['Selling_Price(lakh)'].mean()\n",
    "sns.set_style(\"whitegrid\")\n",
    "sns.barplot(x=df_grouped.index, y=df_grouped.values, palette=\"Set3\")\n",
    "plt.xlabel('Owner')\n",
    "plt.ylabel('Mean Selling Price (lakh)')\n",
    "plt.title('Mean Selling Price by Owner Type')\n",
    "plt.show()"
   ]
  },
  {
   "cell_type": "code",
   "execution_count": 30,
   "id": "2eb0bfab",
   "metadata": {},
   "outputs": [
    {
     "data": {
      "text/html": [
       "<div>\n",
       "<style scoped>\n",
       "    .dataframe tbody tr th:only-of-type {\n",
       "        vertical-align: middle;\n",
       "    }\n",
       "\n",
       "    .dataframe tbody tr th {\n",
       "        vertical-align: top;\n",
       "    }\n",
       "\n",
       "    .dataframe thead th {\n",
       "        text-align: right;\n",
       "    }\n",
       "</style>\n",
       "<table border=\"1\" class=\"dataframe\">\n",
       "  <thead>\n",
       "    <tr style=\"text-align: right;\">\n",
       "      <th></th>\n",
       "      <th>Selling_Price(lakh)</th>\n",
       "      <th>Present_Price(lakh)</th>\n",
       "      <th>Kms_Driven</th>\n",
       "      <th>Fuel_Type</th>\n",
       "      <th>Seller_Type</th>\n",
       "      <th>Transmission</th>\n",
       "      <th>Owner</th>\n",
       "      <th>current_year</th>\n",
       "      <th>no_year</th>\n",
       "    </tr>\n",
       "  </thead>\n",
       "  <tbody>\n",
       "    <tr>\n",
       "      <th>0</th>\n",
       "      <td>3.35</td>\n",
       "      <td>5.59</td>\n",
       "      <td>27000</td>\n",
       "      <td>Petrol</td>\n",
       "      <td>Dealer</td>\n",
       "      <td>Manual</td>\n",
       "      <td>0</td>\n",
       "      <td>2023</td>\n",
       "      <td>9</td>\n",
       "    </tr>\n",
       "    <tr>\n",
       "      <th>1</th>\n",
       "      <td>4.75</td>\n",
       "      <td>9.54</td>\n",
       "      <td>43000</td>\n",
       "      <td>Diesel</td>\n",
       "      <td>Dealer</td>\n",
       "      <td>Manual</td>\n",
       "      <td>0</td>\n",
       "      <td>2023</td>\n",
       "      <td>10</td>\n",
       "    </tr>\n",
       "    <tr>\n",
       "      <th>2</th>\n",
       "      <td>7.25</td>\n",
       "      <td>9.85</td>\n",
       "      <td>6900</td>\n",
       "      <td>Petrol</td>\n",
       "      <td>Dealer</td>\n",
       "      <td>Manual</td>\n",
       "      <td>0</td>\n",
       "      <td>2023</td>\n",
       "      <td>6</td>\n",
       "    </tr>\n",
       "    <tr>\n",
       "      <th>3</th>\n",
       "      <td>2.85</td>\n",
       "      <td>4.15</td>\n",
       "      <td>5200</td>\n",
       "      <td>Petrol</td>\n",
       "      <td>Dealer</td>\n",
       "      <td>Manual</td>\n",
       "      <td>0</td>\n",
       "      <td>2023</td>\n",
       "      <td>12</td>\n",
       "    </tr>\n",
       "    <tr>\n",
       "      <th>4</th>\n",
       "      <td>4.60</td>\n",
       "      <td>6.87</td>\n",
       "      <td>42450</td>\n",
       "      <td>Diesel</td>\n",
       "      <td>Dealer</td>\n",
       "      <td>Manual</td>\n",
       "      <td>0</td>\n",
       "      <td>2023</td>\n",
       "      <td>9</td>\n",
       "    </tr>\n",
       "  </tbody>\n",
       "</table>\n",
       "</div>"
      ],
      "text/plain": [
       "   Selling_Price(lakh)  Present_Price(lakh)  Kms_Driven Fuel_Type Seller_Type  \\\n",
       "0                 3.35                 5.59       27000    Petrol      Dealer   \n",
       "1                 4.75                 9.54       43000    Diesel      Dealer   \n",
       "2                 7.25                 9.85        6900    Petrol      Dealer   \n",
       "3                 2.85                 4.15        5200    Petrol      Dealer   \n",
       "4                 4.60                 6.87       42450    Diesel      Dealer   \n",
       "\n",
       "  Transmission  Owner  current_year  no_year  \n",
       "0       Manual      0          2023        9  \n",
       "1       Manual      0          2023       10  \n",
       "2       Manual      0          2023        6  \n",
       "3       Manual      0          2023       12  \n",
       "4       Manual      0          2023        9  "
      ]
     },
     "execution_count": 30,
     "metadata": {},
     "output_type": "execute_result"
    }
   ],
   "source": [
    "df.head()"
   ]
  },
  {
   "cell_type": "code",
   "execution_count": 31,
   "id": "fb7fe179",
   "metadata": {},
   "outputs": [
    {
     "data": {
      "text/plain": [
       "Index(['Selling_Price(lakh)', 'Present_Price(lakh)', 'Kms_Driven', 'Fuel_Type',\n",
       "       'Seller_Type', 'Transmission', 'Owner', 'current_year', 'no_year'],\n",
       "      dtype='object')"
      ]
     },
     "execution_count": 31,
     "metadata": {},
     "output_type": "execute_result"
    }
   ],
   "source": [
    "df.columns"
   ]
  },
  {
   "cell_type": "code",
   "execution_count": 32,
   "id": "3bfa20a9",
   "metadata": {},
   "outputs": [
    {
     "name": "stdout",
     "output_type": "stream",
     "text": [
      "<class 'pandas.core.frame.DataFrame'>\n",
      "RangeIndex: 301 entries, 0 to 300\n",
      "Data columns (total 9 columns):\n",
      " #   Column               Non-Null Count  Dtype  \n",
      "---  ------               --------------  -----  \n",
      " 0   Selling_Price(lakh)  301 non-null    float64\n",
      " 1   Present_Price(lakh)  301 non-null    float64\n",
      " 2   Kms_Driven           301 non-null    int64  \n",
      " 3   Fuel_Type            301 non-null    object \n",
      " 4   Seller_Type          301 non-null    object \n",
      " 5   Transmission         301 non-null    object \n",
      " 6   Owner                301 non-null    int64  \n",
      " 7   current_year         301 non-null    int64  \n",
      " 8   no_year              301 non-null    int64  \n",
      "dtypes: float64(2), int64(4), object(3)\n",
      "memory usage: 21.3+ KB\n"
     ]
    }
   ],
   "source": [
    "df.info()"
   ]
  },
  {
   "cell_type": "code",
   "execution_count": 33,
   "id": "e28e1c72",
   "metadata": {},
   "outputs": [
    {
     "data": {
      "text/plain": [
       "Selling_Price(lakh)    0\n",
       "Present_Price(lakh)    0\n",
       "Kms_Driven             0\n",
       "Fuel_Type              0\n",
       "Seller_Type            0\n",
       "Transmission           0\n",
       "Owner                  0\n",
       "current_year           0\n",
       "no_year                0\n",
       "dtype: int64"
      ]
     },
     "execution_count": 33,
     "metadata": {},
     "output_type": "execute_result"
    }
   ],
   "source": [
    "df.isnull().sum()"
   ]
  },
  {
   "cell_type": "code",
   "execution_count": 34,
   "id": "c030e388",
   "metadata": {},
   "outputs": [
    {
     "data": {
      "text/plain": [
       "2"
      ]
     },
     "execution_count": 34,
     "metadata": {},
     "output_type": "execute_result"
    }
   ],
   "source": [
    "df.duplicated().sum()"
   ]
  },
  {
   "cell_type": "code",
   "execution_count": 35,
   "id": "dd4b8b5b",
   "metadata": {},
   "outputs": [],
   "source": [
    "df.drop_duplicates(inplace=True)"
   ]
  },
  {
   "cell_type": "code",
   "execution_count": 36,
   "id": "b7d45d50",
   "metadata": {},
   "outputs": [
    {
     "data": {
      "text/plain": [
       "0"
      ]
     },
     "execution_count": 36,
     "metadata": {},
     "output_type": "execute_result"
    }
   ],
   "source": [
    "df.duplicated().sum()"
   ]
  },
  {
   "cell_type": "markdown",
   "id": "23dabbeb",
   "metadata": {},
   "source": [
    "### Part 2 Feature Engineering"
   ]
  },
  {
   "cell_type": "code",
   "execution_count": 37,
   "id": "14696a04",
   "metadata": {},
   "outputs": [
    {
     "data": {
      "text/html": [
       "<div>\n",
       "<style scoped>\n",
       "    .dataframe tbody tr th:only-of-type {\n",
       "        vertical-align: middle;\n",
       "    }\n",
       "\n",
       "    .dataframe tbody tr th {\n",
       "        vertical-align: top;\n",
       "    }\n",
       "\n",
       "    .dataframe thead th {\n",
       "        text-align: right;\n",
       "    }\n",
       "</style>\n",
       "<table border=\"1\" class=\"dataframe\">\n",
       "  <thead>\n",
       "    <tr style=\"text-align: right;\">\n",
       "      <th></th>\n",
       "      <th>Selling_Price(lakh)</th>\n",
       "      <th>Present_Price(lakh)</th>\n",
       "      <th>Kms_Driven</th>\n",
       "      <th>Fuel_Type</th>\n",
       "      <th>Seller_Type</th>\n",
       "      <th>Transmission</th>\n",
       "      <th>Owner</th>\n",
       "      <th>current_year</th>\n",
       "      <th>no_year</th>\n",
       "    </tr>\n",
       "  </thead>\n",
       "  <tbody>\n",
       "    <tr>\n",
       "      <th>0</th>\n",
       "      <td>3.35</td>\n",
       "      <td>5.59</td>\n",
       "      <td>27000</td>\n",
       "      <td>Petrol</td>\n",
       "      <td>Dealer</td>\n",
       "      <td>Manual</td>\n",
       "      <td>0</td>\n",
       "      <td>2023</td>\n",
       "      <td>9</td>\n",
       "    </tr>\n",
       "    <tr>\n",
       "      <th>1</th>\n",
       "      <td>4.75</td>\n",
       "      <td>9.54</td>\n",
       "      <td>43000</td>\n",
       "      <td>Diesel</td>\n",
       "      <td>Dealer</td>\n",
       "      <td>Manual</td>\n",
       "      <td>0</td>\n",
       "      <td>2023</td>\n",
       "      <td>10</td>\n",
       "    </tr>\n",
       "    <tr>\n",
       "      <th>2</th>\n",
       "      <td>7.25</td>\n",
       "      <td>9.85</td>\n",
       "      <td>6900</td>\n",
       "      <td>Petrol</td>\n",
       "      <td>Dealer</td>\n",
       "      <td>Manual</td>\n",
       "      <td>0</td>\n",
       "      <td>2023</td>\n",
       "      <td>6</td>\n",
       "    </tr>\n",
       "    <tr>\n",
       "      <th>3</th>\n",
       "      <td>2.85</td>\n",
       "      <td>4.15</td>\n",
       "      <td>5200</td>\n",
       "      <td>Petrol</td>\n",
       "      <td>Dealer</td>\n",
       "      <td>Manual</td>\n",
       "      <td>0</td>\n",
       "      <td>2023</td>\n",
       "      <td>12</td>\n",
       "    </tr>\n",
       "    <tr>\n",
       "      <th>4</th>\n",
       "      <td>4.60</td>\n",
       "      <td>6.87</td>\n",
       "      <td>42450</td>\n",
       "      <td>Diesel</td>\n",
       "      <td>Dealer</td>\n",
       "      <td>Manual</td>\n",
       "      <td>0</td>\n",
       "      <td>2023</td>\n",
       "      <td>9</td>\n",
       "    </tr>\n",
       "  </tbody>\n",
       "</table>\n",
       "</div>"
      ],
      "text/plain": [
       "   Selling_Price(lakh)  Present_Price(lakh)  Kms_Driven Fuel_Type Seller_Type  \\\n",
       "0                 3.35                 5.59       27000    Petrol      Dealer   \n",
       "1                 4.75                 9.54       43000    Diesel      Dealer   \n",
       "2                 7.25                 9.85        6900    Petrol      Dealer   \n",
       "3                 2.85                 4.15        5200    Petrol      Dealer   \n",
       "4                 4.60                 6.87       42450    Diesel      Dealer   \n",
       "\n",
       "  Transmission  Owner  current_year  no_year  \n",
       "0       Manual      0          2023        9  \n",
       "1       Manual      0          2023       10  \n",
       "2       Manual      0          2023        6  \n",
       "3       Manual      0          2023       12  \n",
       "4       Manual      0          2023        9  "
      ]
     },
     "execution_count": 37,
     "metadata": {},
     "output_type": "execute_result"
    }
   ],
   "source": [
    "df.head()"
   ]
  },
  {
   "cell_type": "code",
   "execution_count": 38,
   "id": "7b1a6dc5",
   "metadata": {},
   "outputs": [],
   "source": [
    "from sklearn.preprocessing import LabelEncoder\n",
    "\n",
    "# Define the columns with categorical variables\n",
    "categorical_cols = ['Fuel_Type', 'Seller_Type', 'Transmission']\n",
    "\n",
    "# Create an instance of LabelEncoder\n",
    "label_encoder = LabelEncoder()\n",
    "\n",
    "# Apply label encoding to the categorical columns\n",
    "for col in categorical_cols:\n",
    "    df[col] = label_encoder.fit_transform(df[col])"
   ]
  },
  {
   "cell_type": "code",
   "execution_count": 39,
   "id": "e19d4af5",
   "metadata": {},
   "outputs": [
    {
     "data": {
      "text/html": [
       "<div>\n",
       "<style scoped>\n",
       "    .dataframe tbody tr th:only-of-type {\n",
       "        vertical-align: middle;\n",
       "    }\n",
       "\n",
       "    .dataframe tbody tr th {\n",
       "        vertical-align: top;\n",
       "    }\n",
       "\n",
       "    .dataframe thead th {\n",
       "        text-align: right;\n",
       "    }\n",
       "</style>\n",
       "<table border=\"1\" class=\"dataframe\">\n",
       "  <thead>\n",
       "    <tr style=\"text-align: right;\">\n",
       "      <th></th>\n",
       "      <th>Selling_Price(lakh)</th>\n",
       "      <th>Present_Price(lakh)</th>\n",
       "      <th>Kms_Driven</th>\n",
       "      <th>Fuel_Type</th>\n",
       "      <th>Seller_Type</th>\n",
       "      <th>Transmission</th>\n",
       "      <th>Owner</th>\n",
       "      <th>current_year</th>\n",
       "      <th>no_year</th>\n",
       "    </tr>\n",
       "  </thead>\n",
       "  <tbody>\n",
       "    <tr>\n",
       "      <th>0</th>\n",
       "      <td>3.35</td>\n",
       "      <td>5.59</td>\n",
       "      <td>27000</td>\n",
       "      <td>2</td>\n",
       "      <td>0</td>\n",
       "      <td>1</td>\n",
       "      <td>0</td>\n",
       "      <td>2023</td>\n",
       "      <td>9</td>\n",
       "    </tr>\n",
       "    <tr>\n",
       "      <th>1</th>\n",
       "      <td>4.75</td>\n",
       "      <td>9.54</td>\n",
       "      <td>43000</td>\n",
       "      <td>1</td>\n",
       "      <td>0</td>\n",
       "      <td>1</td>\n",
       "      <td>0</td>\n",
       "      <td>2023</td>\n",
       "      <td>10</td>\n",
       "    </tr>\n",
       "    <tr>\n",
       "      <th>2</th>\n",
       "      <td>7.25</td>\n",
       "      <td>9.85</td>\n",
       "      <td>6900</td>\n",
       "      <td>2</td>\n",
       "      <td>0</td>\n",
       "      <td>1</td>\n",
       "      <td>0</td>\n",
       "      <td>2023</td>\n",
       "      <td>6</td>\n",
       "    </tr>\n",
       "    <tr>\n",
       "      <th>3</th>\n",
       "      <td>2.85</td>\n",
       "      <td>4.15</td>\n",
       "      <td>5200</td>\n",
       "      <td>2</td>\n",
       "      <td>0</td>\n",
       "      <td>1</td>\n",
       "      <td>0</td>\n",
       "      <td>2023</td>\n",
       "      <td>12</td>\n",
       "    </tr>\n",
       "    <tr>\n",
       "      <th>4</th>\n",
       "      <td>4.60</td>\n",
       "      <td>6.87</td>\n",
       "      <td>42450</td>\n",
       "      <td>1</td>\n",
       "      <td>0</td>\n",
       "      <td>1</td>\n",
       "      <td>0</td>\n",
       "      <td>2023</td>\n",
       "      <td>9</td>\n",
       "    </tr>\n",
       "  </tbody>\n",
       "</table>\n",
       "</div>"
      ],
      "text/plain": [
       "   Selling_Price(lakh)  Present_Price(lakh)  Kms_Driven  Fuel_Type  \\\n",
       "0                 3.35                 5.59       27000          2   \n",
       "1                 4.75                 9.54       43000          1   \n",
       "2                 7.25                 9.85        6900          2   \n",
       "3                 2.85                 4.15        5200          2   \n",
       "4                 4.60                 6.87       42450          1   \n",
       "\n",
       "   Seller_Type  Transmission  Owner  current_year  no_year  \n",
       "0            0             1      0          2023        9  \n",
       "1            0             1      0          2023       10  \n",
       "2            0             1      0          2023        6  \n",
       "3            0             1      0          2023       12  \n",
       "4            0             1      0          2023        9  "
      ]
     },
     "execution_count": 39,
     "metadata": {},
     "output_type": "execute_result"
    }
   ],
   "source": [
    "df.head()"
   ]
  },
  {
   "cell_type": "code",
   "execution_count": 40,
   "id": "d015e35f",
   "metadata": {},
   "outputs": [
    {
     "name": "stdout",
     "output_type": "stream",
     "text": [
      "<class 'pandas.core.frame.DataFrame'>\n",
      "Int64Index: 299 entries, 0 to 300\n",
      "Data columns (total 9 columns):\n",
      " #   Column               Non-Null Count  Dtype  \n",
      "---  ------               --------------  -----  \n",
      " 0   Selling_Price(lakh)  299 non-null    float64\n",
      " 1   Present_Price(lakh)  299 non-null    float64\n",
      " 2   Kms_Driven           299 non-null    int64  \n",
      " 3   Fuel_Type            299 non-null    int32  \n",
      " 4   Seller_Type          299 non-null    int32  \n",
      " 5   Transmission         299 non-null    int32  \n",
      " 6   Owner                299 non-null    int64  \n",
      " 7   current_year         299 non-null    int64  \n",
      " 8   no_year              299 non-null    int64  \n",
      "dtypes: float64(2), int32(3), int64(4)\n",
      "memory usage: 19.9 KB\n"
     ]
    }
   ],
   "source": [
    "df.info()"
   ]
  },
  {
   "cell_type": "code",
   "execution_count": 41,
   "id": "18bdc70e",
   "metadata": {},
   "outputs": [],
   "source": [
    "X = df.drop('Selling_Price(lakh)',axis=1)\n",
    "y = df['Selling_Price(lakh)']"
   ]
  },
  {
   "cell_type": "code",
   "execution_count": 42,
   "id": "a6236c84",
   "metadata": {},
   "outputs": [
    {
     "data": {
      "text/html": [
       "<div>\n",
       "<style scoped>\n",
       "    .dataframe tbody tr th:only-of-type {\n",
       "        vertical-align: middle;\n",
       "    }\n",
       "\n",
       "    .dataframe tbody tr th {\n",
       "        vertical-align: top;\n",
       "    }\n",
       "\n",
       "    .dataframe thead th {\n",
       "        text-align: right;\n",
       "    }\n",
       "</style>\n",
       "<table border=\"1\" class=\"dataframe\">\n",
       "  <thead>\n",
       "    <tr style=\"text-align: right;\">\n",
       "      <th></th>\n",
       "      <th>Present_Price(lakh)</th>\n",
       "      <th>Kms_Driven</th>\n",
       "      <th>Fuel_Type</th>\n",
       "      <th>Seller_Type</th>\n",
       "      <th>Transmission</th>\n",
       "      <th>Owner</th>\n",
       "      <th>current_year</th>\n",
       "      <th>no_year</th>\n",
       "    </tr>\n",
       "  </thead>\n",
       "  <tbody>\n",
       "    <tr>\n",
       "      <th>0</th>\n",
       "      <td>5.59</td>\n",
       "      <td>27000</td>\n",
       "      <td>2</td>\n",
       "      <td>0</td>\n",
       "      <td>1</td>\n",
       "      <td>0</td>\n",
       "      <td>2023</td>\n",
       "      <td>9</td>\n",
       "    </tr>\n",
       "    <tr>\n",
       "      <th>1</th>\n",
       "      <td>9.54</td>\n",
       "      <td>43000</td>\n",
       "      <td>1</td>\n",
       "      <td>0</td>\n",
       "      <td>1</td>\n",
       "      <td>0</td>\n",
       "      <td>2023</td>\n",
       "      <td>10</td>\n",
       "    </tr>\n",
       "    <tr>\n",
       "      <th>2</th>\n",
       "      <td>9.85</td>\n",
       "      <td>6900</td>\n",
       "      <td>2</td>\n",
       "      <td>0</td>\n",
       "      <td>1</td>\n",
       "      <td>0</td>\n",
       "      <td>2023</td>\n",
       "      <td>6</td>\n",
       "    </tr>\n",
       "    <tr>\n",
       "      <th>3</th>\n",
       "      <td>4.15</td>\n",
       "      <td>5200</td>\n",
       "      <td>2</td>\n",
       "      <td>0</td>\n",
       "      <td>1</td>\n",
       "      <td>0</td>\n",
       "      <td>2023</td>\n",
       "      <td>12</td>\n",
       "    </tr>\n",
       "    <tr>\n",
       "      <th>4</th>\n",
       "      <td>6.87</td>\n",
       "      <td>42450</td>\n",
       "      <td>1</td>\n",
       "      <td>0</td>\n",
       "      <td>1</td>\n",
       "      <td>0</td>\n",
       "      <td>2023</td>\n",
       "      <td>9</td>\n",
       "    </tr>\n",
       "  </tbody>\n",
       "</table>\n",
       "</div>"
      ],
      "text/plain": [
       "   Present_Price(lakh)  Kms_Driven  Fuel_Type  Seller_Type  Transmission  \\\n",
       "0                 5.59       27000          2            0             1   \n",
       "1                 9.54       43000          1            0             1   \n",
       "2                 9.85        6900          2            0             1   \n",
       "3                 4.15        5200          2            0             1   \n",
       "4                 6.87       42450          1            0             1   \n",
       "\n",
       "   Owner  current_year  no_year  \n",
       "0      0          2023        9  \n",
       "1      0          2023       10  \n",
       "2      0          2023        6  \n",
       "3      0          2023       12  \n",
       "4      0          2023        9  "
      ]
     },
     "execution_count": 42,
     "metadata": {},
     "output_type": "execute_result"
    }
   ],
   "source": [
    "X.head()"
   ]
  },
  {
   "cell_type": "code",
   "execution_count": 43,
   "id": "e4814645",
   "metadata": {},
   "outputs": [
    {
     "data": {
      "text/plain": [
       "0    3.35\n",
       "1    4.75\n",
       "2    7.25\n",
       "3    2.85\n",
       "4    4.60\n",
       "Name: Selling_Price(lakh), dtype: float64"
      ]
     },
     "execution_count": 43,
     "metadata": {},
     "output_type": "execute_result"
    }
   ],
   "source": [
    "y.head()"
   ]
  },
  {
   "cell_type": "code",
   "execution_count": 44,
   "id": "0058e9d5",
   "metadata": {},
   "outputs": [
    {
     "name": "stdout",
     "output_type": "stream",
     "text": [
      "X_train shape: (239, 8)\n",
      "X_test shape: (60, 8)\n",
      "y_train shape: (239,)\n",
      "y_test shape: (60,)\n"
     ]
    }
   ],
   "source": [
    "from sklearn.model_selection import train_test_split\n",
    "\n",
    "# Split the data into X and y\n",
    "X = df.drop('Selling_Price(lakh)', axis=1)\n",
    "y = df['Selling_Price(lakh)']\n",
    "\n",
    "# Split the data into training and testing sets\n",
    "X_train, X_test, y_train, y_test = train_test_split(X, y, test_size=0.2, random_state=42)\n",
    "\n",
    "# Print the shape of the resulting sets\n",
    "print(\"X_train shape:\", X_train.shape)\n",
    "print(\"X_test shape:\", X_test.shape)\n",
    "print(\"y_train shape:\", y_train.shape)\n",
    "print(\"y_test shape:\", y_test.shape)"
   ]
  },
  {
   "cell_type": "markdown",
   "id": "dbbd942d",
   "metadata": {},
   "source": [
    "### Scale the data using StandardScaler"
   ]
  },
  {
   "cell_type": "code",
   "execution_count": 45,
   "id": "2acd91b2",
   "metadata": {},
   "outputs": [],
   "source": [
    "from sklearn.preprocessing import StandardScaler\n",
    "\n",
    "# Create an instance of StandardScaler\n",
    "scaler = StandardScaler()\n",
    "\n",
    "# Fit and transform the training set\n",
    "X_train_scaled = scaler.fit_transform(X_train)\n",
    "\n",
    "# Transform the testing set using the fitted scaler\n",
    "X_test_scaled = scaler.transform(X_test)\n",
    "\n"
   ]
  },
  {
   "cell_type": "code",
   "execution_count": 46,
   "id": "7db4e348",
   "metadata": {},
   "outputs": [
    {
     "data": {
      "text/plain": [
       "array([[ 0.0792308 , -0.55609426,  0.48215907, ..., -0.17370208,\n",
       "         0.        , -0.46310243],\n",
       "       [-0.77591555, -1.1560003 ,  0.48215907, ..., -0.17370208,\n",
       "         0.        ,  1.97328237],\n",
       "       [-0.78385457, -0.08727564,  0.48215907, ..., -0.17370208,\n",
       "         0.        ,  0.23300751],\n",
       "       ...,\n",
       "       [-0.67157408, -0.58435688,  0.48215907, ..., -0.17370208,\n",
       "         0.        , -0.8111574 ],\n",
       "       [ 0.29245031, -0.24350117,  0.48215907, ..., -0.17370208,\n",
       "         0.        , -0.46310243],\n",
       "       [-0.67497652, -1.07788753,  0.48215907, ..., -0.17370208,\n",
       "         0.        , -1.15921237]])"
      ]
     },
     "execution_count": 46,
     "metadata": {},
     "output_type": "execute_result"
    }
   ],
   "source": [
    "X_train_scaled"
   ]
  },
  {
   "cell_type": "code",
   "execution_count": 47,
   "id": "671ad0a8",
   "metadata": {},
   "outputs": [
    {
     "data": {
      "text/plain": [
       "array([[ 0.49659666, -0.90355404,  0.48215907, -0.73616267,  0.386055  ,\n",
       "        -0.17370208,  0.        , -0.8111574 ],\n",
       "       [ 0.22440153, -0.53344156, -1.96967111, -0.73616267,  0.386055  ,\n",
       "        -0.17370208,  0.        , -0.8111574 ],\n",
       "       [-0.77931799, -1.18795552,  0.48215907,  1.35839541,  0.386055  ,\n",
       "        -0.17370208,  0.        , -0.8111574 ],\n",
       "       [ 0.16996251,  0.28081302, -1.96967111, -0.73616267,  0.386055  ,\n",
       "        -0.17370208,  0.        , -0.46310243],\n",
       "       [ 1.74756008,  1.61700288,  0.48215907, -0.73616267, -2.5903045 ,\n",
       "        -0.17370208,  0.        ,  1.27717243],\n",
       "       [-0.17254969, -0.70986989,  0.48215907, -0.73616267,  0.386055  ,\n",
       "        -0.17370208,  0.        , -0.46310243],\n",
       "       [ 1.26895032,  1.33295646,  0.48215907, -0.73616267,  0.386055  ,\n",
       "        -0.17370208,  0.        ,  0.58106248],\n",
       "       [-0.67157408, -0.91456084,  0.48215907,  1.35839541,  0.386055  ,\n",
       "        -0.17370208,  0.        , -0.8111574 ],\n",
       "       [ 0.27316983, -1.14992881, -1.96967111, -0.73616267,  0.386055  ,\n",
       "        -0.17370208,  0.        , -1.50726735],\n",
       "       [-0.75243872,  1.43947387,  0.48215907,  1.35839541,  0.386055  ,\n",
       "        -0.17370208,  0.        ,  0.92911746],\n",
       "       [ 1.47763325,  0.55268095, -1.96967111, -0.73616267,  0.386055  ,\n",
       "        -0.17370208,  0.        ,  1.27717243],\n",
       "       [-0.78385457, -0.05176984,  0.48215907,  1.35839541,  0.386055  ,\n",
       "        -0.17370208,  0.        ,  1.27717243],\n",
       "       [-0.78272043, -0.44233367,  0.48215907,  1.35839541, -2.5903045 ,\n",
       "        -0.17370208,  0.        ,  1.27717243],\n",
       "       [-0.78272043, -0.69087428,  0.48215907,  1.35839541,  0.386055  ,\n",
       "        -0.17370208,  0.        , -1.15921237],\n",
       "       [-0.07047652,  0.17848529,  0.48215907, -0.73616267,  0.386055  ,\n",
       "         5.75698334,  0.        , -0.11504746],\n",
       "       [ 0.03159665,  0.21764819,  0.48215907, -0.73616267,  0.386055  ,\n",
       "        -0.17370208,  0.        , -0.46310243],\n",
       "       [-0.73508628, -0.37132206,  0.48215907,  1.35839541,  0.386055  ,\n",
       "        -0.17370208,  0.        , -0.8111574 ],\n",
       "       [-0.63981799, -1.01042651,  0.48215907,  1.35839541,  0.386055  ,\n",
       "        -0.17370208,  0.        , -0.8111574 ],\n",
       "       [ 3.26731619, -1.01042651, -1.96967111, -0.73616267, -2.5903045 ,\n",
       "        -0.17370208,  0.        , -1.15921237],\n",
       "       [-0.74642774, -0.19379305,  0.48215907,  1.35839541,  0.386055  ,\n",
       "        -0.17370208,  0.        , -0.46310243],\n",
       "       [-0.74642774, -0.40682786,  0.48215907,  1.35839541,  0.386055  ,\n",
       "        -0.17370208,  0.        , -0.46310243],\n",
       "       [-0.45041555, -0.63761558,  0.48215907,  1.35839541,  0.386055  ,\n",
       "         5.75698334,  0.        , -0.11504746],\n",
       "       [ 0.02025519, -0.61986268,  0.48215907, -0.73616267,  0.386055  ,\n",
       "        -0.17370208,  0.        , -0.8111574 ],\n",
       "       [-0.3710253 ,  1.08441585,  0.48215907, -0.73616267,  0.386055  ,\n",
       "        -0.17370208,  0.        ,  2.66939231],\n",
       "       [ 0.07242592,  0.40199432, -1.96967111, -0.73616267,  0.386055  ,\n",
       "        -0.17370208,  0.        , -0.11504746],\n",
       "       [ 0.700743  , -0.45014494,  0.48215907, -0.73616267,  0.386055  ,\n",
       "        -0.17370208,  0.        , -0.46310243],\n",
       "       [ 0.74610885,  1.01340424, -1.96967111, -0.73616267,  0.386055  ,\n",
       "        -0.17370208,  0.        , -0.11504746],\n",
       "       [-0.67497652, -0.30031046,  0.48215907,  1.35839541,  0.386055  ,\n",
       "        -0.17370208,  0.        , -0.46310243],\n",
       "       [ 0.22440153,  0.05829815,  0.48215907, -0.73616267,  0.386055  ,\n",
       "        -0.17370208,  0.        ,  0.58106248],\n",
       "       [ 0.22440153,  0.91544373,  0.48215907, -0.73616267,  0.386055  ,\n",
       "        -0.17370208,  0.        ,  0.23300751],\n",
       "       [-0.26441554,  0.03699467, -4.4215013 , -0.73616267,  0.386055  ,\n",
       "        -0.17370208,  0.        , -0.46310243],\n",
       "       [-0.03304969,  0.04998979,  0.48215907, -0.73616267,  0.386055  ,\n",
       "         5.75698334,  0.        , -0.46310243],\n",
       "       [ 0.07242592,  0.37429979, -1.96967111, -0.73616267,  0.386055  ,\n",
       "        -0.17370208,  0.        , -0.11504746],\n",
       "       [-0.27575701, -0.51334527,  0.48215907, -0.73616267,  0.386055  ,\n",
       "        -0.17370208,  0.        ,  0.92911746],\n",
       "       [-0.28709847,  1.06779913,  0.48215907, -0.73616267,  0.386055  ,\n",
       "        -0.17370208,  0.        ,  0.23300751],\n",
       "       [ 0.13480397, -0.03653785, -1.96967111, -0.73616267,  0.386055  ,\n",
       "        -0.17370208,  0.        , -0.46310243],\n",
       "       [-0.67497652, -0.60210978,  0.48215907,  1.35839541,  0.386055  ,\n",
       "        -0.17370208,  0.        , -0.46310243],\n",
       "       [-0.78272043, 16.52943997,  0.48215907,  1.35839541, -2.5903045 ,\n",
       "        -0.17370208,  0.        ,  1.97328237],\n",
       "       [-0.68291555,  0.01924177,  0.48215907,  1.35839541,  0.386055  ,\n",
       "        -0.17370208,  0.        , -0.8111574 ],\n",
       "       [ 1.74188935,  1.93655511,  0.48215907, -0.73616267, -2.5903045 ,\n",
       "        -0.17370208,  0.        ,  1.97328237],\n",
       "       [ 0.8232308 ,  1.33295646,  0.48215907, -0.73616267,  0.386055  ,\n",
       "        -0.17370208,  0.        ,  0.23300751],\n",
       "       [ 0.68486495,  0.12575918, -1.96967111, -0.73616267,  0.386055  ,\n",
       "        -0.17370208,  0.        , -0.46310243],\n",
       "       [-0.6987936 , -1.02107825,  0.48215907,  1.35839541,  0.386055  ,\n",
       "        -0.17370208,  0.        , -0.8111574 ],\n",
       "       [ 0.55897471,  3.57528992,  0.48215907, -0.73616267, -2.5903045 ,\n",
       "        -0.17370208,  0.        ,  3.36550226],\n",
       "       [-0.74869603, -0.58435688,  0.48215907,  1.35839541,  0.386055  ,\n",
       "        -0.17370208,  0.        , -0.46310243],\n",
       "       [-0.77591555,  0.65834621,  0.48215907,  1.35839541,  0.386055  ,\n",
       "        -0.17370208,  0.        ,  2.32133734],\n",
       "       [ 0.700743  , -0.41850927,  0.48215907, -0.73616267,  0.386055  ,\n",
       "        -0.17370208,  0.        , -0.8111574 ],\n",
       "       [-0.11584237, -0.54885107,  0.48215907, -0.73616267,  0.386055  ,\n",
       "        -0.17370208,  0.        , -0.11504746],\n",
       "       [-0.07161066, -0.08727564,  0.48215907, -0.73616267, -2.5903045 ,\n",
       "        -0.17370208,  0.        ,  0.23300751],\n",
       "       [-0.78385457,  0.90688683,  0.48215907,  1.35839541,  0.386055  ,\n",
       "        -0.17370208,  0.        ,  0.58106248],\n",
       "       [-0.75243872, -0.69087428,  0.48215907,  1.35839541,  0.386055  ,\n",
       "        -0.17370208,  0.        , -0.11504746],\n",
       "       [-0.77704969, -0.58435688,  0.48215907,  1.35839541,  0.386055  ,\n",
       "        -0.17370208,  0.        ,  0.23300751],\n",
       "       [ 1.84963325,  3.81836264,  0.48215907,  1.35839541, -2.5903045 ,\n",
       "        17.61835418,  0.        ,  2.66939231],\n",
       "       [ 0.700743  ,  0.05240419, -1.96967111, -0.73616267,  0.386055  ,\n",
       "        -0.17370208,  0.        , -0.8111574 ],\n",
       "       [ 0.700743  ,  0.20124451,  0.48215907, -0.73616267,  0.386055  ,\n",
       "        -0.17370208,  0.        , -0.11504746],\n",
       "       [ 0.17109665,  1.72352029, -1.96967111, -0.73616267,  0.386055  ,\n",
       "        -0.17370208,  0.        , -0.11504746],\n",
       "       [-0.07161066,  0.01924177,  0.48215907, -0.73616267,  0.386055  ,\n",
       "        -0.17370208,  0.        ,  0.58106248],\n",
       "       [-0.17595213,  0.73425762,  0.48215907, -0.73616267,  0.386055  ,\n",
       "        -0.17370208,  0.        ,  0.23300751],\n",
       "       [ 0.83570641,  0.32228379, -1.96967111, -0.73616267,  0.386055  ,\n",
       "        -0.17370208,  0.        , -0.46310243],\n",
       "       [ 1.26895032,  0.19680629,  0.48215907, -0.73616267,  0.386055  ,\n",
       "        -0.17370208,  0.        ,  0.23300751]])"
      ]
     },
     "execution_count": 47,
     "metadata": {},
     "output_type": "execute_result"
    }
   ],
   "source": [
    "X_test_scaled"
   ]
  },
  {
   "cell_type": "markdown",
   "id": "7e786418",
   "metadata": {},
   "source": [
    "### Model 1. LinearRegression"
   ]
  },
  {
   "cell_type": "markdown",
   "id": "0a56f882",
   "metadata": {},
   "source": [
    "### Train the LinearRegression model on scaled data"
   ]
  },
  {
   "cell_type": "code",
   "execution_count": 48,
   "id": "1e257829",
   "metadata": {},
   "outputs": [
    {
     "name": "stdout",
     "output_type": "stream",
     "text": [
      "R2 score: 0.7410829335731295\n",
      "MAE: 1.541071812283763\n",
      "MSE: 6.673137446828263\n",
      "RMSE: 2.583241654748596\n"
     ]
    }
   ],
   "source": [
    "from sklearn.linear_model import LinearRegression\n",
    "from sklearn.metrics import r2_score, mean_absolute_error, mean_squared_error\n",
    "\n",
    "# Create an instance of LinearRegression\n",
    "regressor = LinearRegression()\n",
    "\n",
    "# Fit the model using the training data\n",
    "regressor.fit(X_train_scaled, y_train)\n",
    "\n",
    "# Make predictions for the testing set\n",
    "y_pred = regressor.predict(X_test_scaled)\n",
    "\n",
    "# Calculate R2 score\n",
    "r2 = r2_score(y_test, y_pred)\n",
    "\n",
    "# Calculate MAE\n",
    "mae = mean_absolute_error(y_test, y_pred)\n",
    "\n",
    "# Calculate MSE\n",
    "mse = mean_squared_error(y_test, y_pred)\n",
    "\n",
    "# Calculate RMSE\n",
    "rmse = mean_squared_error(y_test, y_pred, squared=False)\n",
    "\n",
    "# Print the evaluation metrics\n",
    "print(\"R2 score:\", r2)\n",
    "print(\"MAE:\", mae)\n",
    "print(\"MSE:\", mse)\n",
    "print(\"RMSE:\", rmse)"
   ]
  },
  {
   "cell_type": "markdown",
   "id": "6412fe8c",
   "metadata": {},
   "source": [
    "### Without scaled"
   ]
  },
  {
   "cell_type": "code",
   "execution_count": 49,
   "id": "40f89194",
   "metadata": {},
   "outputs": [
    {
     "name": "stdout",
     "output_type": "stream",
     "text": [
      "R2 score: 0.7410829335731294\n",
      "MAE: 1.5410718122837708\n",
      "MSE: 6.6731374468282665\n",
      "RMSE: 2.5832416547485963\n"
     ]
    }
   ],
   "source": [
    "from sklearn.linear_model import LinearRegression\n",
    "from sklearn.metrics import r2_score, mean_absolute_error, mean_squared_error\n",
    "\n",
    "# Create an instance of LinearRegression\n",
    "regressor = LinearRegression()\n",
    "\n",
    "# Fit the model using the training data\n",
    "regressor.fit(X_train, y_train)\n",
    "\n",
    "# Make predictions for the testing set\n",
    "y_pred = regressor.predict(X_test)\n",
    "\n",
    "# Calculate R2 score\n",
    "r2 = r2_score(y_test, y_pred)\n",
    "\n",
    "# Calculate MAE\n",
    "mae = mean_absolute_error(y_test, y_pred)\n",
    "\n",
    "# Calculate MSE\n",
    "mse = mean_squared_error(y_test, y_pred)\n",
    "\n",
    "# Calculate RMSE\n",
    "rmse = mean_squared_error(y_test, y_pred, squared=False)\n",
    "\n",
    "# Print the evaluation metrics\n",
    "print(\"R2 score:\", r2)\n",
    "print(\"MAE:\", mae)\n",
    "print(\"MSE:\", mse)\n",
    "print(\"RMSE:\", rmse)"
   ]
  },
  {
   "cell_type": "markdown",
   "id": "e678cbb3",
   "metadata": {},
   "source": [
    "### There is no impact on metrices using scaled or not"
   ]
  },
  {
   "cell_type": "markdown",
   "id": "ae09224f",
   "metadata": {},
   "source": [
    "### Model 2. RandomForestRegressor"
   ]
  },
  {
   "cell_type": "code",
   "execution_count": 50,
   "id": "02e15396",
   "metadata": {},
   "outputs": [
    {
     "name": "stdout",
     "output_type": "stream",
     "text": [
      "R2 score: 0.5036448068015013\n",
      "MAE: 1.4980466666666674\n",
      "MSE: 12.792692549666679\n",
      "RMSE: 3.5766873709714524\n"
     ]
    }
   ],
   "source": [
    "from sklearn.ensemble import RandomForestRegressor\n",
    "from sklearn.metrics import r2_score, mean_absolute_error, mean_squared_error\n",
    "\n",
    "# Create an instance of RandomForestRegressor\n",
    "regressor = RandomForestRegressor()\n",
    "\n",
    "# Fit the model using the training data\n",
    "regressor.fit(X_train, y_train)\n",
    "\n",
    "# Make predictions for the testing set\n",
    "y_pred = regressor.predict(X_test)\n",
    "\n",
    "# Calculate R2 score\n",
    "r2 = r2_score(y_test, y_pred)\n",
    "\n",
    "# Calculate MAE\n",
    "mae = mean_absolute_error(y_test, y_pred)\n",
    "\n",
    "# Calculate MSE\n",
    "mse = mean_squared_error(y_test, y_pred)\n",
    "\n",
    "# Calculate RMSE\n",
    "rmse = mean_squared_error(y_test, y_pred, squared=False)\n",
    "\n",
    "# Print the evaluation metrics\n",
    "print(\"R2 score:\", r2)\n",
    "print(\"MAE:\", mae)\n",
    "print(\"MSE:\", mse)\n",
    "print(\"RMSE:\", rmse)"
   ]
  },
  {
   "cell_type": "markdown",
   "id": "d4891e6f",
   "metadata": {},
   "source": [
    "### Model 3. XGBRegressor Without Hyperparameter"
   ]
  },
  {
   "cell_type": "code",
   "execution_count": 51,
   "id": "dc289fae",
   "metadata": {},
   "outputs": [
    {
     "name": "stdout",
     "output_type": "stream",
     "text": [
      "R2 score: 0.7658333328884852\n",
      "MAE: 1.141260794411103\n",
      "MSE: 6.035238915168892\n",
      "RMSE: 2.4566723255592904\n"
     ]
    }
   ],
   "source": [
    "from xgboost import XGBRegressor\n",
    "from sklearn.metrics import r2_score, mean_absolute_error, mean_squared_error\n",
    "from sklearn.model_selection import train_test_split\n",
    "\n",
    "# Split the data into X and y\n",
    "X = df.drop('Selling_Price(lakh)', axis=1)\n",
    "y = df['Selling_Price(lakh)']\n",
    "\n",
    "# Split the data into training and testing sets\n",
    "X_train, X_test, y_train, y_test = train_test_split(X, y, test_size=0.2, random_state=42)\n",
    "\n",
    "# Create an instance of XGBRegressor\n",
    "xgb_model = XGBRegressor()\n",
    "\n",
    "# Fit the model using the training data\n",
    "xgb_model.fit(X_train, y_train)\n",
    "\n",
    "# Make predictions for the testing set\n",
    "y_pred = xgb_model.predict(X_test)\n",
    "\n",
    "# Calculate R2 score\n",
    "r2 = r2_score(y_test, y_pred)\n",
    "\n",
    "# Calculate MAE\n",
    "mae = mean_absolute_error(y_test, y_pred)\n",
    "\n",
    "# Calculate MSE\n",
    "mse = mean_squared_error(y_test, y_pred)\n",
    "\n",
    "# Calculate RMSE\n",
    "rmse = mean_squared_error(y_test, y_pred, squared=False)\n",
    "\n",
    "# Print the evaluation metrics\n",
    "print(\"R2 score:\", r2)\n",
    "print(\"MAE:\", mae)\n",
    "print(\"MSE:\", mse)\n",
    "print(\"RMSE:\", rmse)"
   ]
  },
  {
   "cell_type": "markdown",
   "id": "315cf68a",
   "metadata": {},
   "source": [
    "### Using hyperparameters"
   ]
  },
  {
   "cell_type": "code",
   "execution_count": 52,
   "id": "640c19f3",
   "metadata": {},
   "outputs": [
    {
     "name": "stdout",
     "output_type": "stream",
     "text": [
      "Best Hyperparameters: {'learning_rate': 0.1, 'max_depth': 3, 'n_estimators': 300}\n",
      "R2 score: 0.8627802532284261\n",
      "MAE: 0.8759725088787574\n",
      "MSE: 3.5366005156107057\n",
      "RMSE: 1.8805851524487547\n"
     ]
    }
   ],
   "source": [
    "from xgboost import XGBRegressor\n",
    "from sklearn.model_selection import GridSearchCV\n",
    "\n",
    "# Create an instance of XGBRegressor\n",
    "regressor = XGBRegressor()\n",
    "\n",
    "# Define the hyperparameters you want to tune and their possible values\n",
    "param_grid = {\n",
    "    'n_estimators': [100, 200, 300],\n",
    "    'max_depth': [3, 4, 5],\n",
    "    'learning_rate': [0.1, 0.01, 0.001]\n",
    "}\n",
    "\n",
    "# Create the GridSearchCV object\n",
    "grid_search = GridSearchCV(regressor, param_grid, scoring='neg_mean_squared_error', cv=5)\n",
    "\n",
    "# Fit the model on the training data\n",
    "grid_search.fit(X_train, y_train)\n",
    "\n",
    "# Get the best hyperparameters and model\n",
    "best_params = grid_search.best_params_\n",
    "best_model = grid_search.best_estimator_\n",
    "\n",
    "# Make predictions\n",
    "y_pred = best_model.predict(X_test)\n",
    "\n",
    "# Print the evaluation metrics\n",
    "r2 = r2_score(y_test, y_pred)\n",
    "mae = mean_absolute_error(y_test, y_pred)\n",
    "mse = mean_squared_error(y_test, y_pred)\n",
    "rmse = mean_squared_error(y_test, y_pred, squared=False)\n",
    "\n",
    "print(\"Best Hyperparameters:\", best_params)\n",
    "print(\"R2 score:\", r2)\n",
    "print(\"MAE:\", mae)\n",
    "print(\"MSE:\", mse)\n",
    "print(\"RMSE:\", rmse)"
   ]
  },
  {
   "cell_type": "code",
   "execution_count": 53,
   "id": "aea1f8ed",
   "metadata": {},
   "outputs": [
    {
     "data": {
      "image/png": "[encoded data removed]",
      "text/plain": [
       "<Figure size 640x480 with 1 Axes>"
      ]
     },
     "metadata": {},
     "output_type": "display_data"
    }
   ],
   "source": [
    "import matplotlib.pyplot as plt\n",
    "\n",
    "# Scatter plot of actual vs. predicted values\n",
    "plt.scatter(y_test, y_pred)\n",
    "plt.xlabel('Actual')\n",
    "plt.ylabel('Predicted')\n",
    "plt.title('Actual vs. Predicted Values of XGBRegressor Model ')\n",
    "plt.show()"
   ]
  },
  {
   "cell_type": "code",
   "execution_count": null,
   "id": "ab94fbde",
   "metadata": {},
   "outputs": [],
   "source": []
  }
 ],
 "metadata": {
  "kernelspec": {
   "display_name": "Python 3 (ipykernel)",
   "language": "python",
   "name": "python3"
  },
  "language_info": {
   "codemirror_mode": {
    "name": "ipython",
    "version": 3
   },
   "file_extension": ".py",
   "mimetype": "text/x-python",
   "name": "python",
   "nbconvert_exporter": "python",
   "pygments_lexer": "ipython3",
   "version": "3.11.4"
  }
 },
 "nbformat": 4,
 "nbformat_minor": 5
}
